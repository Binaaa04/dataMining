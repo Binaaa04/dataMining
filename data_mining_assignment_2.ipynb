{
  "nbformat": 4,
  "nbformat_minor": 0,
  "metadata": {
    "colab": {
      "provenance": [],
      "gpuType": "T4",
      "mount_file_id": "1RG00d3OvNOcK4iHMI6F9u1lcjQgQjnff",
      "authorship_tag": "ABX9TyM1Nm+8sZ2IYtpxduE940cH",
      "include_colab_link": true
    },
    "kernelspec": {
      "name": "python3",
      "display_name": "Python 3"
    },
    "language_info": {
      "name": "python"
    }
  },
  "cells": [
    {
      "cell_type": "markdown",
      "metadata": {
        "id": "view-in-github",
        "colab_type": "text"
      },
      "source": [
        "<a href=\"https://colab.research.google.com/github/Binaaa04/dataMining/blob/main/data_mining_assignment_2.ipynb\" target=\"_parent\"><img src=\"https://colab.research.google.com/assets/colab-badge.svg\" alt=\"Open In Colab\"/></a>"
      ]
    },
    {
      "cell_type": "code",
      "execution_count": null,
      "metadata": {
        "colab": {
          "base_uri": "https://localhost:8080/"
        },
        "id": "zOqQgKzSV-Sn",
        "outputId": "2743bf50-481b-4aa3-db18-cd976472b2f2"
      },
      "outputs": [
        {
          "output_type": "stream",
          "name": "stdout",
          "text": [
            "Mounted at /content/drive\n"
          ]
        }
      ],
      "source": [
        "from google.colab import drive\n",
        "drive.mount('/content/drive')"
      ]
    },
    {
      "cell_type": "code",
      "source": [
        "#how to data capture using pandas for CSV files\n",
        "import pandas as pd\n",
        "# to read local CSV\n",
        "data\t= pd.read_csv('/content/data_nasabah .csv',delimiter=',')\n",
        "# display head 5 data\n",
        "print(data.head(5))\n"
      ],
      "metadata": {
        "colab": {
          "base_uri": "https://localhost:8080/"
        },
        "id": "tuSqcMAeoc5G",
        "outputId": "3a71917a-7a19-4a69-cc41-224fbf2528c3"
      },
      "execution_count": null,
      "outputs": [
        {
          "output_type": "stream",
          "name": "stdout",
          "text": [
            "   ID_Nasabah  Usia_Nasabah Jenis_Kelamin  Jumlah_Tanggungan  \\\n",
            "0   717574683          53.0     Perempuan                  3   \n",
            "1   769662033          45.0     Perempuan                  2   \n",
            "2   719377383          40.0     Laki-Laki                  2   \n",
            "3   820657083          53.0     Laki-Laki                  4   \n",
            "4   709836258          45.0     Perempuan                  4   \n",
            "\n",
            "  Tingkat_Pendidikan Status_Pernikahan  Pendapatan Kategori_Kartu  \\\n",
            "0                NaN           Menikah     44280.0           Biru   \n",
            "1             Kuliah               NaN      9982.0           Biru   \n",
            "2             Kuliah     Belum Menikah     64988.0           Biru   \n",
            "3             Kuliah     Belum Menikah    117549.0          Perak   \n",
            "4            Sarjana           Menikah     21579.0           Biru   \n",
            "\n",
            "   Lama_Menjadi_Nasabah  Jumlah_Layanan  Limit_Kredit  Saldo_Revolting_Total  \\\n",
            "0                    46               6        2192.0                   1146   \n",
            "1                    29               2        1438.3                      0   \n",
            "2                    28               1       10880.0                   2025   \n",
            "3                    48               5       34516.0                    800   \n",
            "4                    41               5        1927.0                   1337   \n",
            "\n",
            "   Total_Transaksi  Jumlah_Melakukan_Transaksi  Rasio_Penggunaan_Rata-rata  \n",
            "0             4756                          85                       0.523  \n",
            "1             5025                          85                       0.000  \n",
            "2             4957                          90                       0.186  \n",
            "3             3819                          72                       0.023  \n",
            "4             5127                          81                       0.694  \n"
          ]
        }
      ]
    },
    {
      "cell_type": "code",
      "source": [
        "import os\n",
        "print(os.listdir('/content/'))\n"
      ],
      "metadata": {
        "colab": {
          "base_uri": "https://localhost:8080/"
        },
        "id": "mwpbtR6qt0xc",
        "outputId": "89c2d650-4074-42cf-dc8a-c6e9f7dad11f"
      },
      "execution_count": null,
      "outputs": [
        {
          "output_type": "stream",
          "name": "stdout",
          "text": [
            "['.config', 'drive', 'data_nasabah .csv', 'sample_data']\n"
          ]
        }
      ]
    },
    {
      "cell_type": "code",
      "source": [
        "#install the library\n",
        "!pip install beautifulsoup4"
      ],
      "metadata": {
        "colab": {
          "base_uri": "https://localhost:8080/"
        },
        "id": "RuIF0bhd2vWy",
        "outputId": "9097030a-3165-4dde-d210-07705f06324d"
      },
      "execution_count": null,
      "outputs": [
        {
          "output_type": "stream",
          "name": "stdout",
          "text": [
            "Requirement already satisfied: beautifulsoup4 in /usr/local/lib/python3.11/dist-packages (4.13.3)\n",
            "Requirement already satisfied: soupsieve>1.2 in /usr/local/lib/python3.11/dist-packages (from beautifulsoup4) (2.6)\n",
            "Requirement already satisfied: typing-extensions>=4.0.0 in /usr/local/lib/python3.11/dist-packages (from beautifulsoup4) (4.12.2)\n"
          ]
        }
      ]
    },
    {
      "cell_type": "code",
      "source": [
        "# how to data collect using BeautifulSoup for Web Scraping\n",
        "import pandas as pd\n",
        "import requests\n",
        "from bs4 import BeautifulSoup\n",
        "# The URL you want to scrape\n",
        "url = 'https://www.kompas.com/'\n",
        "# Sending a GET request to a URL\n",
        "response = requests.get(url)\n",
        "# Check if the request was successful\n",
        "if response.status_code == 200:\n",
        "# Create BeautifulSoup objects from HTML content\n",
        "  soup = BeautifulSoup(response.content, 'html.parser')\n",
        "# Search for all headlines (for example, with the tag <h3 class=“most title”>)\n",
        "  berita_utama = soup.find_all('h3',class_='most title')\n",
        "# Menyimpan judul berita ke dalam list\n",
        "  judul_berita = []\n",
        "  for berita in berita_utama:\n",
        "    judul_berita.append(berita.text.strip())\n",
        "# Create a pandas DataFrame from a list of news headlines\n",
        "    df_berita = pd.DataFrame({'JudulBerita':judul_berita})\n",
        "# Menampilkan DataFrame\n",
        "    print(df_berita)\n",
        "else:\n",
        "  print (f'Gagal mengakses URL. Kode status : {response.status_code}')\n",
        "\n"
      ],
      "metadata": {
        "id": "42z2ZYdO0-IT"
      },
      "execution_count": null,
      "outputs": []
    },
    {
      "cell_type": "code",
      "source": [
        "import requests\n",
        "from bs4 import BeautifulSoup\n",
        "from datetime import datetime\n",
        "import pytz\n",
        "\n",
        "#URL yg ingin di scrape\n",
        "url = 'https://www.cnnindonesia.com/nasional/20250221141423-20-1200978/massa-penuhi-patung-kuda-aksi-puncak-indonesia-gelap-dimulai'\n",
        "\n",
        "# Mengirim permintaan GET ke URL\n",
        "response = requests.get(url)\n",
        "\n",
        "# Memeriksa apakah permintaan berhasil\n",
        "if response.status_code == 200:\n",
        "# Membuat objek BeautifulSoup dari konten HTML\n",
        "  soup\t=\tBeautifulSoup(response.content, 'html.parser')\n",
        "\n",
        "# Mengambil judul artikel\n",
        "  content_title = soup.find('h1').text\n",
        "# Menyimpan judul\n",
        "\n",
        "  content_published_date\t=soup.find('meta', property='article:published_time')\n",
        "\n",
        "  if content_published_date:\n",
        "# Mengambil konten dan mengonversi ke objek datetime\n",
        "\n",
        "    utc_time = datetime.fromisoformat(content_published_date['content'].replace('Z', '+00:00'))\n",
        "\n",
        "# mengonversi ke zona waktu WIB\n",
        "    wib_time = utc_time.astimezone(pytz.timezone('Asia/Jakarta'))\n",
        "\n",
        "    published_date = wib_time.strftime('%d-%m-%Y %H:%M WIB')\n",
        "  else:\n",
        "    published_date = 'publication date wasnt found'\n",
        "\n",
        "  #put tag\n",
        "  content_tags = soup.find('meta', {'name':'keywords'})\n",
        "  if content_tags:\n",
        "      tags = content_tags['content']\n",
        "  else:\n",
        "      tags = 'tag didnt found'\n",
        "\n",
        "# Menampilkan judul artikel dan tanggal publikasi\n",
        "  print(f'Article title: {content_title}')\n",
        "  print(f'Publication date : {published_date}')\n",
        "  print(f'Tag: {tags}')\n",
        "\n",
        "else:\n",
        "        print(f'failed to access this URL. Status code : {response.status_code}')"
      ],
      "metadata": {
        "id": "75hixERj8V3l",
        "colab": {
          "base_uri": "https://localhost:8080/"
        },
        "outputId": "629c6fcc-a9ef-4da1-e82b-786d62ce2b66"
      },
      "execution_count": 8,
      "outputs": [
        {
          "output_type": "stream",
          "name": "stdout",
          "text": [
            "Article title:  Massa Penuhi Patung Kuda: Aksi Puncak Indonesia Gelap Dimulai \n",
            "Publication date : publication date wasnt found\n",
            "Tag: ruu perampasan, ikn, perampasan, uu tni, adili jokowi, fokus puncak aksi indonesia gelap, nusantara, polri, tim, apbn, patung kuda, jakarta pusat, ruu, bergizi gratis, tatib dpr, kejaksaan, uu polri, massa aksi indonesia gelap, dpr, penghapusan, pemerintah, klaster, ruu perlindungan pekerja rumah tangga, uu minerba, massa aksi, aksi puncak indonesia gelap, pembatalan, aksi indonesia gelap, tni, inpres nomor 1 tahun 2025, ruu perampasan aset, proyek strategis nasional, psn, taman ismail marzuki, puncak aksi, ratusan massa aksi indonesia gelap, indonesia gelap, aksi demo indonesia gelap, tuntutan demo indonesia gelap, jokowi, joko widodo, demo indonesia gelap, demo\n"
          ]
        }
      ]
    }
  ]
}