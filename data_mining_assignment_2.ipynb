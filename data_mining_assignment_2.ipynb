{
  "nbformat": 4,
  "nbformat_minor": 0,
  "metadata": {
    "colab": {
      "provenance": [],
      "gpuType": "T4",
      "mount_file_id": "1RG00d3OvNOcK4iHMI6F9u1lcjQgQjnff",
      "authorship_tag": "ABX9TyOaQ7y8vo3Qdtyfzwdbst6P",
      "include_colab_link": true
    },
    "kernelspec": {
      "name": "python3",
      "display_name": "Python 3"
    },
    "language_info": {
      "name": "python"
    }
  },
  "cells": [
    {
      "cell_type": "markdown",
      "metadata": {
        "id": "view-in-github",
        "colab_type": "text"
      },
      "source": [
        "<a href=\"https://colab.research.google.com/github/Binaaa04/dataMining/blob/main/data_mining_assignment_2.ipynb\" target=\"_parent\"><img src=\"https://colab.research.google.com/assets/colab-badge.svg\" alt=\"Open In Colab\"/></a>"
      ]
    },
    {
      "cell_type": "code",
      "execution_count": null,
      "metadata": {
        "colab": {
          "base_uri": "https://localhost:8080/"
        },
        "id": "zOqQgKzSV-Sn",
        "outputId": "2743bf50-481b-4aa3-db18-cd976472b2f2"
      },
      "outputs": [
        {
          "output_type": "stream",
          "name": "stdout",
          "text": [
            "Mounted at /content/drive\n"
          ]
        }
      ],
      "source": [
        "from google.colab import drive\n",
        "drive.mount('/content/drive')"
      ]
    },
    {
      "cell_type": "code",
      "source": [
        "#how to data capture using pandas for CSV files\n",
        "import pandas as pd\n",
        "# to read local CSV\n",
        "data\t= pd.read_csv('/content/data_nasabah .csv',delimiter=',')\n",
        "# display head 5 data\n",
        "print(data.head(5))\n"
      ],
      "metadata": {
        "colab": {
          "base_uri": "https://localhost:8080/"
        },
        "id": "tuSqcMAeoc5G",
        "outputId": "3a71917a-7a19-4a69-cc41-224fbf2528c3"
      },
      "execution_count": null,
      "outputs": [
        {
          "output_type": "stream",
          "name": "stdout",
          "text": [
            "   ID_Nasabah  Usia_Nasabah Jenis_Kelamin  Jumlah_Tanggungan  \\\n",
            "0   717574683          53.0     Perempuan                  3   \n",
            "1   769662033          45.0     Perempuan                  2   \n",
            "2   719377383          40.0     Laki-Laki                  2   \n",
            "3   820657083          53.0     Laki-Laki                  4   \n",
            "4   709836258          45.0     Perempuan                  4   \n",
            "\n",
            "  Tingkat_Pendidikan Status_Pernikahan  Pendapatan Kategori_Kartu  \\\n",
            "0                NaN           Menikah     44280.0           Biru   \n",
            "1             Kuliah               NaN      9982.0           Biru   \n",
            "2             Kuliah     Belum Menikah     64988.0           Biru   \n",
            "3             Kuliah     Belum Menikah    117549.0          Perak   \n",
            "4            Sarjana           Menikah     21579.0           Biru   \n",
            "\n",
            "   Lama_Menjadi_Nasabah  Jumlah_Layanan  Limit_Kredit  Saldo_Revolting_Total  \\\n",
            "0                    46               6        2192.0                   1146   \n",
            "1                    29               2        1438.3                      0   \n",
            "2                    28               1       10880.0                   2025   \n",
            "3                    48               5       34516.0                    800   \n",
            "4                    41               5        1927.0                   1337   \n",
            "\n",
            "   Total_Transaksi  Jumlah_Melakukan_Transaksi  Rasio_Penggunaan_Rata-rata  \n",
            "0             4756                          85                       0.523  \n",
            "1             5025                          85                       0.000  \n",
            "2             4957                          90                       0.186  \n",
            "3             3819                          72                       0.023  \n",
            "4             5127                          81                       0.694  \n"
          ]
        }
      ]
    },
    {
      "cell_type": "code",
      "source": [
        "import os\n",
        "print(os.listdir('/content/'))\n"
      ],
      "metadata": {
        "colab": {
          "base_uri": "https://localhost:8080/"
        },
        "id": "mwpbtR6qt0xc",
        "outputId": "89c2d650-4074-42cf-dc8a-c6e9f7dad11f"
      },
      "execution_count": null,
      "outputs": [
        {
          "output_type": "stream",
          "name": "stdout",
          "text": [
            "['.config', 'drive', 'data_nasabah .csv', 'sample_data']\n"
          ]
        }
      ]
    },
    {
      "cell_type": "code",
      "source": [
        "#install the library\n",
        "!pip install beautifulsoup4"
      ],
      "metadata": {
        "colab": {
          "base_uri": "https://localhost:8080/"
        },
        "id": "RuIF0bhd2vWy",
        "outputId": "9097030a-3165-4dde-d210-07705f06324d"
      },
      "execution_count": null,
      "outputs": [
        {
          "output_type": "stream",
          "name": "stdout",
          "text": [
            "Requirement already satisfied: beautifulsoup4 in /usr/local/lib/python3.11/dist-packages (4.13.3)\n",
            "Requirement already satisfied: soupsieve>1.2 in /usr/local/lib/python3.11/dist-packages (from beautifulsoup4) (2.6)\n",
            "Requirement already satisfied: typing-extensions>=4.0.0 in /usr/local/lib/python3.11/dist-packages (from beautifulsoup4) (4.12.2)\n"
          ]
        }
      ]
    },
    {
      "cell_type": "code",
      "source": [
        "# how to data collect using BeautifulSoup for Web Scraping\n",
        "import pandas as pd\n",
        "import requests\n",
        "from bs4 import BeautifulSoup\n",
        "# The URL you want to scrape\n",
        "url = 'https://www.kompas.com/'\n",
        "# Sending a GET request to a URL\n",
        "response = requests.get(url)\n",
        "# Check if the request was successful\n",
        "if response.status_code == 200:\n",
        "# Create BeautifulSoup objects from HTML content\n",
        "  soup = BeautifulSoup(response.content, 'html.parser')\n",
        "# Search for all headlines (for example, with the tag <h3 class=“most title”>)\n",
        "  berita_utama = soup.find_all('h3',class_='most title')\n",
        "# Menyimpan judul berita ke dalam list\n",
        "  judul_berita = []\n",
        "  for berita in berita_utama:\n",
        "    judul_berita.append(berita.text.strip())\n",
        "# Create a pandas DataFrame from a list of news headlines\n",
        "    df_berita = pd.DataFrame({'JudulBerita':judul_berita})\n",
        "# Menampilkan DataFrame\n",
        "    print(df_berita)\n",
        "else:\n",
        "  print (f'Gagal mengakses URL. Kode status : {response.status_code}')\n",
        "\n"
      ],
      "metadata": {
        "id": "42z2ZYdO0-IT"
      },
      "execution_count": null,
      "outputs": []
    },
    {
      "cell_type": "code",
      "source": [
        "import requests\n",
        "from bs4 import BeautifulSoup\n",
        "from datetime import datetime\n",
        "import pytz\n",
        "\n",
        "#URL yg ingin di scrape\n",
        "url = 'https://www.cnnindonesia.com/nasional/20250221141423-20-1200978/massa-penuhi-patung-kuda-aksi-puncak-indonesia-gelap-dimulai'\n",
        "\n",
        "# Mengirim permintaan GET ke URL\n",
        "response = requests.get(url)\n",
        "\n",
        "# Memeriksa apakah permintaan berhasil\n",
        "if response.status_code == 200:\n",
        "# Membuat objek BeautifulSoup dari konten HTML\n",
        "  soup\t=\tBeautifulSoup(response.content, 'html.parser')\n",
        "\n",
        "# Mengambil judul artikel\n",
        "  content_title = soup.find('h1').text\n",
        "# Menyimpan judul\n",
        "\n",
        "  content_published_date\t=soup.find('meta', property='article:published_time')\n",
        "\n",
        "  if content_published_date:\n",
        "# Mengambil konten dan mengonversi ke objek datetime\n",
        "\n",
        "    utc_time = datetime.fromisoformat(content_published_date['content'].replace('Z', '+00:00'))\n",
        "\n",
        "# mengonversi ke zona waktu WIB\n",
        "    wib_time = utc_time.astimezone(pytz.timezone('Asia/Jakarta'))\n",
        "\n",
        "    published_date = wib_time.strftime('%d-%m-%Y %H:%M WIB')\n",
        "  else:\n",
        "    published_date = 'publication date wasnt found'\n",
        "\n",
        "  #put tag\n",
        "  content_tags = soup.find('meta', {'name':'keywords'})\n",
        "  if content_tags:\n",
        "      tags = content_tags['content']\n",
        "  else:\n",
        "      tags = 'tag didnt found'\n",
        "\n",
        "# Menampilkan judul artikel dan tanggal publikasi\n",
        "  print(f'Article title: {content_title}')\n",
        "  print(f'Publication date : {published_date}')\n",
        "  print(f'Tag: {tags}')\n",
        "\n",
        "else:\n",
        "        print(f'failed to access this URL. Status code : {response.status_code}')"
      ],
      "metadata": {
        "id": "75hixERj8V3l",
        "colab": {
          "base_uri": "https://localhost:8080/"
        },
        "outputId": "629c6fcc-a9ef-4da1-e82b-786d62ce2b66"
      },
      "execution_count": 8,
      "outputs": [
        {
          "output_type": "stream",
          "name": "stdout",
          "text": [
            "Article title:  Massa Penuhi Patung Kuda: Aksi Puncak Indonesia Gelap Dimulai \n",
            "Publication date : publication date wasnt found\n",
            "Tag: ruu perampasan, ikn, perampasan, uu tni, adili jokowi, fokus puncak aksi indonesia gelap, nusantara, polri, tim, apbn, patung kuda, jakarta pusat, ruu, bergizi gratis, tatib dpr, kejaksaan, uu polri, massa aksi indonesia gelap, dpr, penghapusan, pemerintah, klaster, ruu perlindungan pekerja rumah tangga, uu minerba, massa aksi, aksi puncak indonesia gelap, pembatalan, aksi indonesia gelap, tni, inpres nomor 1 tahun 2025, ruu perampasan aset, proyek strategis nasional, psn, taman ismail marzuki, puncak aksi, ratusan massa aksi indonesia gelap, indonesia gelap, aksi demo indonesia gelap, tuntutan demo indonesia gelap, jokowi, joko widodo, demo indonesia gelap, demo\n"
          ]
        }
      ]
    },
    {
      "cell_type": "code",
      "source": [
        "#how to data capture using pandas for CSV files\n",
        "import pandas as pd\n",
        "# to read local CSV\n",
        "data\t= pd.read_csv('/content/drive/MyDrive/house_prices.csv')\n",
        "# display head 5 data\n",
        "print(data.head(5))"
      ],
      "metadata": {
        "colab": {
          "base_uri": "https://localhost:8080/"
        },
        "id": "nAgKsWQdwv4i",
        "outputId": "5de40263-5b13-429a-cfcf-df97ec3c34d2"
      },
      "execution_count": 4,
      "outputs": [
        {
          "output_type": "stream",
          "name": "stdout",
          "text": [
            "   Index                                              Title  \\\n",
            "0      0  1 BHK Ready to Occupy Flat for sale in Srushti...   \n",
            "1      1  2 BHK Ready to Occupy Flat for sale in Dosti V...   \n",
            "2      2  2 BHK Ready to Occupy Flat for sale in Sunrise...   \n",
            "3      3        1 BHK Ready to Occupy Flat for sale Kasheli   \n",
            "4      4  2 BHK Ready to Occupy Flat for sale in TenX Ha...   \n",
            "\n",
            "                                         Description Amount(in rupees)  \\\n",
            "0  Bhiwandi, Thane has an attractive 1 BHK Flat f...           42 Lac    \n",
            "1  One can find this stunning 2 BHK flat for sale...           98 Lac    \n",
            "2  Up for immediate sale is a 2 BHK apartment in ...          1.40 Cr    \n",
            "3  This beautiful 1 BHK Flat is available for sal...           25 Lac    \n",
            "4  This lovely 2 BHK Flat in Pokhran Road, Thane ...          1.60 Cr    \n",
            "\n",
            "   Price (in rupees) location Carpet Area         Status         Floor  \\\n",
            "0             6000.0    thane    500 sqft  Ready to Move  10 out of 11   \n",
            "1            13799.0    thane    473 sqft  Ready to Move   3 out of 22   \n",
            "2            17500.0    thane    779 sqft  Ready to Move  10 out of 29   \n",
            "3                NaN    thane    530 sqft  Ready to Move    1 out of 3   \n",
            "4            18824.0    thane    635 sqft  Ready to Move  20 out of 42   \n",
            "\n",
            "  Transaction  ... facing             overlooking  \\\n",
            "0      Resale  ...    NaN                     NaN   \n",
            "1      Resale  ...   East             Garden/Park   \n",
            "2      Resale  ...   East             Garden/Park   \n",
            "3      Resale  ...    NaN                     NaN   \n",
            "4      Resale  ...   West  Garden/Park, Main Road   \n",
            "\n",
            "                               Society Bathroom Balcony Car Parking  \\\n",
            "0  Srushti Siddhi Mangal Murti Complex        1       2         NaN   \n",
            "1                          Dosti Vihar        2     NaN      1 Open   \n",
            "2                 Sunrise by Kalpataru        2     NaN   1 Covered   \n",
            "3                                  NaN        1       1         NaN   \n",
            "4          TenX Habitat Raymond Realty        2     NaN   1 Covered   \n",
            "\n",
            "              Ownership Super Area Dimensions  Plot Area  \n",
            "0                   NaN        NaN        NaN        NaN  \n",
            "1              Freehold        NaN        NaN        NaN  \n",
            "2              Freehold        NaN        NaN        NaN  \n",
            "3                   NaN        NaN        NaN        NaN  \n",
            "4  Co-operative Society        NaN        NaN        NaN  \n",
            "\n",
            "[5 rows x 21 columns]\n"
          ]
        }
      ]
    },
    {
      "cell_type": "code",
      "source": [
        "#how to data capture using gdrive for CSV files\n",
        "import pandas as pd\n",
        "# to read local CSV\n",
        "data\t= pd.read_csv('/content/drive/MyDrive/data_nasabah .csv')\n",
        "# display head 5 data\n",
        "print(data.head(5))"
      ],
      "metadata": {
        "colab": {
          "base_uri": "https://localhost:8080/"
        },
        "id": "FViIXMUI_Mnr",
        "outputId": "c3a2f3d3-948e-4d92-8be3-bab60737702c"
      },
      "execution_count": 9,
      "outputs": [
        {
          "output_type": "stream",
          "name": "stdout",
          "text": [
            "   ID_Nasabah  Usia_Nasabah Jenis_Kelamin  Jumlah_Tanggungan  \\\n",
            "0   717574683          53.0     Perempuan                  3   \n",
            "1   769662033          45.0     Perempuan                  2   \n",
            "2   719377383          40.0     Laki-Laki                  2   \n",
            "3   820657083          53.0     Laki-Laki                  4   \n",
            "4   709836258          45.0     Perempuan                  4   \n",
            "\n",
            "  Tingkat_Pendidikan Status_Pernikahan  Pendapatan Kategori_Kartu  \\\n",
            "0                NaN           Menikah     44280.0           Biru   \n",
            "1             Kuliah               NaN      9982.0           Biru   \n",
            "2             Kuliah     Belum Menikah     64988.0           Biru   \n",
            "3             Kuliah     Belum Menikah    117549.0          Perak   \n",
            "4            Sarjana           Menikah     21579.0           Biru   \n",
            "\n",
            "   Lama_Menjadi_Nasabah  Jumlah_Layanan  Limit_Kredit  Saldo_Revolting_Total  \\\n",
            "0                    46               6        2192.0                   1146   \n",
            "1                    29               2        1438.3                      0   \n",
            "2                    28               1       10880.0                   2025   \n",
            "3                    48               5       34516.0                    800   \n",
            "4                    41               5        1927.0                   1337   \n",
            "\n",
            "   Total_Transaksi  Jumlah_Melakukan_Transaksi  Rasio_Penggunaan_Rata-rata  \n",
            "0             4756                          85                       0.523  \n",
            "1             5025                          85                       0.000  \n",
            "2             4957                          90                       0.186  \n",
            "3             3819                          72                       0.023  \n",
            "4             5127                          81                       0.694  \n"
          ]
        }
      ]
    },
    {
      "cell_type": "code",
      "source": [
        "# PRACTICUM TASK\n",
        "import pandas as pd\n",
        "# to read local CSV\n",
        "data\t= pd.read_csv('/content/laptop_prices.csv',delimiter=',')\n",
        "# display head 5 data\n",
        "print(data.head())"
      ],
      "metadata": {
        "colab": {
          "base_uri": "https://localhost:8080/"
        },
        "id": "YoCiTHLE6j9N",
        "outputId": "c99bc89c-23d8-41dc-9a25-cf616ea12702"
      },
      "execution_count": 5,
      "outputs": [
        {
          "output_type": "stream",
          "name": "stdout",
          "text": [
            "    Brand    Processor  RAM (GB)    Storage                 GPU  \\\n",
            "0   Apple  AMD Ryzen 3        64  512GB SSD     Nvidia GTX 1650   \n",
            "1   Razer  AMD Ryzen 7         4    1TB SSD     Nvidia RTX 3080   \n",
            "2    Asus     Intel i5        32    2TB SSD     Nvidia RTX 3060   \n",
            "3  Lenovo     Intel i5         4  256GB SSD     Nvidia RTX 3080   \n",
            "4   Razer     Intel i3         4  256GB SSD  AMD Radeon RX 6600   \n",
            "\n",
            "   Screen Size (inch) Resolution  Battery Life (hours)  Weight (kg)  \\\n",
            "0                17.3  2560x1440                   8.9         1.42   \n",
            "1                14.0   1366x768                   9.4         2.57   \n",
            "2                13.3  3840x2160                   8.5         1.74   \n",
            "3                13.3   1366x768                  10.5         3.10   \n",
            "4                16.0  3840x2160                   5.7         3.38   \n",
            "\n",
            "  Operating System  Price ($)  \n",
            "0          FreeDOS    3997.07  \n",
            "1            Linux    1355.78  \n",
            "2          FreeDOS    2673.07  \n",
            "3          Windows     751.17  \n",
            "4            Linux    2059.83  \n"
          ]
        }
      ]
    },
    {
      "cell_type": "code",
      "source": [
        "import pandas as pd\n",
        "# to read local CSV\n",
        "data  = pd.read_csv('/content/drive/MyDrive/laptop_prices.csv')\n",
        "# display head 5 data\n",
        "print(data.head(5))\n",
        "\n"
      ],
      "metadata": {
        "colab": {
          "base_uri": "https://localhost:8080/"
        },
        "id": "3RAa1MCdQ75F",
        "outputId": "728e6965-35a2-4e72-f1d7-8c72605ec5f8"
      },
      "execution_count": 6,
      "outputs": [
        {
          "output_type": "stream",
          "name": "stdout",
          "text": [
            "    Brand    Processor  RAM (GB)    Storage                 GPU  \\\n",
            "0   Apple  AMD Ryzen 3        64  512GB SSD     Nvidia GTX 1650   \n",
            "1   Razer  AMD Ryzen 7         4    1TB SSD     Nvidia RTX 3080   \n",
            "2    Asus     Intel i5        32    2TB SSD     Nvidia RTX 3060   \n",
            "3  Lenovo     Intel i5         4  256GB SSD     Nvidia RTX 3080   \n",
            "4   Razer     Intel i3         4  256GB SSD  AMD Radeon RX 6600   \n",
            "\n",
            "   Screen Size (inch) Resolution  Battery Life (hours)  Weight (kg)  \\\n",
            "0                17.3  2560x1440                   8.9         1.42   \n",
            "1                14.0   1366x768                   9.4         2.57   \n",
            "2                13.3  3840x2160                   8.5         1.74   \n",
            "3                13.3   1366x768                  10.5         3.10   \n",
            "4                16.0  3840x2160                   5.7         3.38   \n",
            "\n",
            "  Operating System  Price ($)  \n",
            "0          FreeDOS    3997.07  \n",
            "1            Linux    1355.78  \n",
            "2          FreeDOS    2673.07  \n",
            "3          Windows     751.17  \n",
            "4            Linux    2059.83  \n"
          ]
        }
      ]
    },
    {
      "cell_type": "code",
      "source": [
        "import requests\n",
        "from bs4 import BeautifulSoup\n",
        "from datetime import datetime\n",
        "import pytz\n",
        "\n",
        "#URL yg ingin di scrape\n",
        "url = 'https://news.detik.com/berita/d-7791640/skema-baru-kartu-berlangganan-whoosh-harga-hingga-masa-berlaku-60-hari'\n",
        "\n",
        "# Mengirim permintaan GET ke URL\n",
        "response = requests.get(url)\n",
        "\n",
        "# Memeriksa apakah permintaan berhasil\n",
        "if response.status_code == 200:\n",
        "# Membuat objek BeautifulSoup dari konten HTML\n",
        "  soup\t=\tBeautifulSoup(response.content, 'html.parser')\n",
        "\n",
        "# Mengambil judul artikel\n",
        "  content_title = soup.find('h1').text\n",
        "# Menyimpan judul\n",
        "\n",
        "  content_published_date\t=soup.find('meta', property='article:published_time')\n",
        "\n",
        "  if content_published_date:\n",
        "# Mengambil konten dan mengonversi ke objek datetime\n",
        "\n",
        "    utc_time = datetime.fromisoformat(content_published_date['content'].replace('Z', '+00:00'))\n",
        "\n",
        "# mengonversi ke zona waktu WIB\n",
        "    wib_time = utc_time.astimezone(pytz.timezone('Asia/Jakarta'))\n",
        "\n",
        "    published_date = wib_time.strftime('%d-%m-%Y %H:%M WIB')\n",
        "  else:\n",
        "    published_date = 'publication date wasnt found'\n",
        "\n",
        "  #put tag\n",
        "  content_tags = soup.find('meta', {'name':'keywords'})\n",
        "  if content_tags:\n",
        "      tags = content_tags['content']\n",
        "  else:\n",
        "      tags = 'tag didnt found'\n",
        "\n",
        "# Menampilkan judul artikel dan tanggal publikasi\n",
        "  print(f'Article title: {content_title}')\n",
        "  print(f'Publication date : {published_date}')\n",
        "  print(f'Tag: {tags}')\n",
        "\n",
        "else:\n",
        "        print(f'failed to access this URL. Status code : {response.status_code}')"
      ],
      "metadata": {
        "colab": {
          "base_uri": "https://localhost:8080/"
        },
        "id": "mknihjOcmz_t",
        "outputId": "8263241d-7f4d-4b84-edb7-02de2907dd8a"
      },
      "execution_count": 42,
      "outputs": [
        {
          "output_type": "stream",
          "name": "stdout",
          "text": [
            "Article title: \n",
            "        Skema Baru Kartu Berlangganan Whoosh: Harga hingga Masa Berlaku 60 Hari    \n",
            "Publication date : publication date wasnt found\n",
            "Tag: frequent whoosher card,frequent whoosher card baru,whoosh,kereta cepat whoosh\n"
          ]
        }
      ]
    },
    {
      "cell_type": "code",
      "source": [],
      "metadata": {
        "id": "jSbIN5TspP51"
      },
      "execution_count": null,
      "outputs": []
    },
    {
      "cell_type": "markdown",
      "source": [],
      "metadata": {
        "id": "9bCMdZ5HnAA9"
      }
    },
    {
      "cell_type": "markdown",
      "source": [],
      "metadata": {
        "id": "aKVRKLbzm6Rk"
      }
    },
    {
      "cell_type": "markdown",
      "source": [],
      "metadata": {
        "id": "DbVVED5lm_IM"
      }
    }
  ]
}